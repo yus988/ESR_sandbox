{
 "cells": [
  {
   "cell_type": "code",
   "execution_count": 6,
   "metadata": {},
   "outputs": [],
   "source": [
    "import serial\n",
    "import configparser\n",
    "import serial.tools.list_ports\n",
    "\n",
    "config_ini = configparser.ConfigParser()\n",
    "config_ini.read(\"config.ini\", encoding=\"utf-8\")\n",
    "def auto_detect_serial_port():\n",
    "    ports = list(serial.tools.list_ports.comports())\n",
    "    for p in ports:\n",
    "        print(p)\n",
    "        if \"USB Serial Port\" in p.description:\n",
    "            return p.device\n",
    "    return None\n",
    "port = config_ini[\"Serial\"][\"com_port\"]\n",
    "speed = config_ini[\"Serial\"][\"com_speed\"]"
   ]
  },
  {
   "cell_type": "code",
   "execution_count": 7,
   "metadata": {},
   "outputs": [
    {
     "name": "stdout",
     "output_type": "stream",
     "text": [
      "COM11 - Silicon Labs CP210x USB to UART Bridge (COM11)\n",
      "COM8 - Bluetooth リンク経由の標準シリアル (COM8)\n",
      "COM9 - Bluetooth リンク経由の標準シリアル (COM9)\n",
      "None\n"
     ]
    }
   ],
   "source": [
    "print(auto_detect_serial_port())"
   ]
  },
  {
   "cell_type": "code",
   "execution_count": 21,
   "metadata": {},
   "outputs": [],
   "source": [
    "ser = serial.Serial(port, speed, timeout=0)\n",
    "while 1:\n",
    "    key = input(\"input any key\")\n",
    "    if key == \"q\":\n",
    "        break\n",
    "    else:\n",
    "        data = \"0,0,0,0,100,100\"\n",
    "        data+='\\r\\n' # 改行コードを入れないと待ち受けが発生する模様\n",
    "        ser.write(data.encode('utf-8'))\n",
    "        # ser.write(b'hoge')\n",
    "ser.close()"
   ]
  },
  {
   "cell_type": "code",
   "execution_count": 18,
   "metadata": {},
   "outputs": [],
   "source": [
    "ser.close()"
   ]
  }
 ],
 "metadata": {
  "kernelspec": {
   "display_name": ".venv",
   "language": "python",
   "name": "python3"
  },
  "language_info": {
   "codemirror_mode": {
    "name": "ipython",
    "version": 3
   },
   "file_extension": ".py",
   "mimetype": "text/x-python",
   "name": "python",
   "nbconvert_exporter": "python",
   "pygments_lexer": "ipython3",
   "version": "3.11.7"
  }
 },
 "nbformat": 4,
 "nbformat_minor": 2
}
