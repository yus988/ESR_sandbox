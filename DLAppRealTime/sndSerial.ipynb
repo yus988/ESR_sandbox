{
 "cells": [
  {
   "cell_type": "code",
   "execution_count": 28,
   "metadata": {},
   "outputs": [],
   "source": [
    "import serial\n",
    "import configparser\n",
    "import serial.tools.list_ports\n",
    "\n",
    "config_ini = configparser.ConfigParser()\n",
    "config_ini.read(\"config.ini\", encoding=\"utf-8\")\n",
    "def auto_detect_serial_port():\n",
    "    ports = list(serial.tools.list_ports.comports())\n",
    "    for p in ports:\n",
    "        print(p)\n",
    "        if \"USB Serial Port\" in p.description:\n",
    "            return p.device\n",
    "    return None\n",
    "port = config_ini[\"Serial\"][\"com_port\"]\n",
    "speed = config_ini[\"Serial\"][\"com_speed\"]"
   ]
  },
  {
   "cell_type": "code",
   "execution_count": 29,
   "metadata": {},
   "outputs": [
    {
     "name": "stdout",
     "output_type": "stream",
     "text": [
      "COM11 - Silicon Labs CP210x USB to UART Bridge (COM11)\n",
      "COM8 - Bluetooth リンク経由の標準シリアル (COM8)\n",
      "COM9 - Bluetooth リンク経由の標準シリアル (COM9)\n",
      "None\n"
     ]
    }
   ],
   "source": [
    "print(auto_detect_serial_port())\n",
    "ser = serial.Serial(port, speed, timeout=1)\n",
    "# ser = serial.Serial(auto_detect_serial_port(), speed, timeout=1)"
   ]
  },
  {
   "cell_type": "code",
   "execution_count": 33,
   "metadata": {},
   "outputs": [],
   "source": [
    "ser = serial.Serial(port, speed, timeout=1)\n",
    "while 1:\n",
    "    try:\n",
    "        data = input(\"input any key\")\n",
    "        ser.writelines(data.encode())\n",
    "    except KeyboardInterrupt:\n",
    "        break\n",
    "ser.close()"
   ]
  },
  {
   "cell_type": "code",
   "execution_count": 13,
   "metadata": {},
   "outputs": [],
   "source": []
  }
 ],
 "metadata": {
  "kernelspec": {
   "display_name": ".venv",
   "language": "python",
   "name": "python3"
  },
  "language_info": {
   "codemirror_mode": {
    "name": "ipython",
    "version": 3
   },
   "file_extension": ".py",
   "mimetype": "text/x-python",
   "name": "python",
   "nbconvert_exporter": "python",
   "pygments_lexer": "ipython3",
   "version": "3.11.7"
  }
 },
 "nbformat": 4,
 "nbformat_minor": 2
}
