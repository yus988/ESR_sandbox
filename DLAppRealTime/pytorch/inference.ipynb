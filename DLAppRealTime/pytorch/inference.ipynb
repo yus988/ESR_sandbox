{
 "cells": [
  {
   "cell_type": "code",
   "execution_count": 1,
   "metadata": {},
   "outputs": [
    {
     "name": "stderr",
     "output_type": "stream",
     "text": [
      "c:\\GitHub\\SED_sandbox\\DLAppRealTime\\.venv\\Lib\\site-packages\\tqdm\\auto.py:21: TqdmWarning: IProgress not found. Please update jupyter and ipywidgets. See https://ipywidgets.readthedocs.io/en/stable/user_install.html\n",
      "  from .autonotebook import tqdm as notebook_tqdm\n"
     ]
    }
   ],
   "source": [
    "from transformers import pipeline\n",
    "import torch"
   ]
  },
  {
   "cell_type": "code",
   "execution_count": 2,
   "metadata": {},
   "outputs": [],
   "source": [
    "MOEL_NAME = \"ast-finetuned-audioset-10-10-0.4593-finetuned-pingpong\"\n",
    "CHECKPOINT = \"checkpoint-36\"\n",
    "MODEL_PATH = f\"./model/{MOEL_NAME}/{CHECKPOINT}/\"\n",
    "\n",
    "pipe = pipeline(\"audio-classification\", model=MODEL_PATH)\n",
    "\n",
    "def classify_audio(filepath):\n",
    "    preds = pipe(filepath)\n",
    "    outputs = {}\n",
    "    for p in preds:\n",
    "        outputs[p[\"label\"]] = p[\"score\"]\n",
    "    return outputs"
   ]
  },
  {
   "cell_type": "code",
   "execution_count": 9,
   "metadata": {},
   "outputs": [
    {
     "data": {
      "text/plain": [
       "{'pingpong': 0.9999045133590698,\n",
       " 'clapping': 4.9738340749172494e-05,\n",
       " 'footsteps': 2.7360225431038998e-05,\n",
       " 'caughing': 1.833259557315614e-05}"
      ]
     },
     "execution_count": 9,
     "metadata": {},
     "output_type": "execute_result"
    }
   ],
   "source": [
    "FOLDER_NAME =\"0_pingpong\"\n",
    "FILE_NAME = \"VSQSE_0060_pingpong_03-07.wav\"\n",
    "# data_path = f\"./data/test/{FOLDER_NAME}/{FILE_NAME}\"\n",
    "data_path = f\"./data/{FILE_NAME}\"\n",
    "classify_audio(data_path)"
   ]
  },
  {
   "cell_type": "markdown",
   "metadata": {},
   "source": []
  },
  {
   "cell_type": "code",
   "execution_count": null,
   "metadata": {},
   "outputs": [],
   "source": []
  }
 ],
 "metadata": {
  "kernelspec": {
   "display_name": ".venv",
   "language": "python",
   "name": "python3"
  },
  "language_info": {
   "codemirror_mode": {
    "name": "ipython",
    "version": 3
   },
   "file_extension": ".py",
   "mimetype": "text/x-python",
   "name": "python",
   "nbconvert_exporter": "python",
   "pygments_lexer": "ipython3",
   "version": "3.11.7"
  }
 },
 "nbformat": 4,
 "nbformat_minor": 2
}
