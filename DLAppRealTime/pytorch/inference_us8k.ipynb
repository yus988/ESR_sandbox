{
 "cells": [
  {
   "cell_type": "code",
   "execution_count": 2,
   "metadata": {},
   "outputs": [
    {
     "name": "stderr",
     "output_type": "stream",
     "text": [
      "c:\\GitHub\\SED_sandbox\\DLAppRealTime\\.venv\\Lib\\site-packages\\tqdm\\auto.py:21: TqdmWarning: IProgress not found. Please update jupyter and ipywidgets. See https://ipywidgets.readthedocs.io/en/stable/user_install.html\n",
      "  from .autonotebook import tqdm as notebook_tqdm\n"
     ]
    }
   ],
   "source": [
    "from transformers import pipeline\n",
    "\n"
   ]
  },
  {
   "cell_type": "code",
   "execution_count": 18,
   "metadata": {},
   "outputs": [],
   "source": [
    "model_id = \"sanchit-gandhi/distilhubert-finetuned-gtzan\"\n",
    "pipe = pipeline(\"audio-classification\", model=model_id)\n",
    "\n",
    "def classify_audio(filepath):\n",
    "    preds = pipe(filepath)\n",
    "    outputs = {}\n",
    "    for p in preds:\n",
    "        outputs[p[\"label\"]] = p[\"score\"]\n",
    "    return outputs"
   ]
  },
  {
   "cell_type": "code",
   "execution_count": 19,
   "metadata": {},
   "outputs": [
    {
     "data": {
      "text/plain": [
       "{'blues': 0.4883821904659271,\n",
       " 'reggae': 0.18009981513023376,\n",
       " 'hiphop': 0.10807633399963379,\n",
       " 'rock': 0.08236964046955109,\n",
       " 'country': 0.07722949236631393}"
      ]
     },
     "execution_count": 19,
     "metadata": {},
     "output_type": "execute_result"
    }
   ],
   "source": [
    "classify_audio(\"./data/jazz.mp3\")"
   ]
  },
  {
   "cell_type": "code",
   "execution_count": 20,
   "metadata": {},
   "outputs": [],
   "source": [
    "# load from local\n",
    "model_path = \"./huggingface/audio_course/model/distilhubert-finetuned-gtzan/checkpoint-1130\"\n",
    "pipe = pipeline(\"audio-classification\", model=model_path)"
   ]
  },
  {
   "cell_type": "code",
   "execution_count": 22,
   "metadata": {},
   "outputs": [
    {
     "data": {
      "text/plain": [
       "{'metal': 0.8618581891059875,\n",
       " 'rock': 0.07403679192066193,\n",
       " 'country': 0.039455488324165344,\n",
       " 'pop': 0.005703497678041458,\n",
       " 'classical': 0.005141175352036953}"
      ]
     },
     "execution_count": 22,
     "metadata": {},
     "output_type": "execute_result"
    }
   ],
   "source": [
    "classify_audio(\"./data/rock.mp3\")"
   ]
  },
  {
   "cell_type": "code",
   "execution_count": 27,
   "metadata": {},
   "outputs": [
    {
     "data": {
      "text/plain": [
       "{'air_conditioner': 0.9997591376304626,\n",
       " 'engine_idling': 6.0724851209670305e-05,\n",
       " 'siren': 5.0306196499150246e-05,\n",
       " 'car_horn': 3.6710782296722755e-05,\n",
       " 'gun_shot': 2.7247931939200498e-05}"
      ]
     },
     "execution_count": 27,
     "metadata": {},
     "output_type": "execute_result"
    }
   ],
   "source": [
    "model_path = \"./model/ast-finetuned-audioset-10-10-0.4593-finetuned-us8k/checkpoint-983/\"\n",
    "# model_path = \"./huggingface/audio_course/model/distilhubert-finetuned-gtzan/checkpoint-1130\"\n",
    "\n",
    "pipe = pipeline(\"audio-classification\", model=model_path)\n",
    "\n",
    "def classify_audio(filepath):\n",
    "    preds = pipe(filepath)\n",
    "    outputs = {}\n",
    "    for p in preds:\n",
    "        outputs[p[\"label\"]] = p[\"score\"]\n",
    "    return outputs\n",
    "\n",
    "data_path = \"./data/189981-0-0-10.wav\"\n",
    "# data_path = \"./data/185909-2-0-116.wav\"\n",
    "classify_audio(data_path)\n"
   ]
  }
 ],
 "metadata": {
  "kernelspec": {
   "display_name": ".venv",
   "language": "python",
   "name": "python3"
  },
  "language_info": {
   "codemirror_mode": {
    "name": "ipython",
    "version": 3
   },
   "file_extension": ".py",
   "mimetype": "text/x-python",
   "name": "python",
   "nbconvert_exporter": "python",
   "pygments_lexer": "ipython3",
   "version": "3.11.7"
  }
 },
 "nbformat": 4,
 "nbformat_minor": 2
}
