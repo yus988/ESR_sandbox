{
 "cells": [
  {
   "cell_type": "code",
   "execution_count": 10,
   "metadata": {},
   "outputs": [],
   "source": [
    "from transformers import pipeline\n",
    "import torch"
   ]
  },
  {
   "cell_type": "code",
   "execution_count": 2,
   "metadata": {},
   "outputs": [
    {
     "name": "stderr",
     "output_type": "stream",
     "text": [
      "config.json: 100%|██████████| 1.85k/1.85k [00:00<?, ?B/s]\n",
      "model.safetensors: 100%|██████████| 94.8M/94.8M [00:01<00:00, 64.3MB/s]\n",
      "preprocessor_config.json: 100%|██████████| 212/212 [00:00<00:00, 211kB/s]\n"
     ]
    }
   ],
   "source": [
    "model_id = \"sanchit-gandhi/distilhubert-finetuned-gtzan\"\n",
    "pipe = pipeline(\"audio-classification\", model=model_id)\n",
    "\n",
    "def classify_audio(filepath):\n",
    "    preds = pipe(filepath)\n",
    "    outputs = {}\n",
    "    for p in preds:\n",
    "        outputs[p[\"label\"]] = p[\"score\"]\n",
    "    return outputs"
   ]
  },
  {
   "cell_type": "code",
   "execution_count": 3,
   "metadata": {},
   "outputs": [
    {
     "data": {
      "text/plain": [
       "{'blues': 0.4883823096752167,\n",
       " 'reggae': 0.18009990453720093,\n",
       " 'hiphop': 0.10807652026414871,\n",
       " 'rock': 0.08236947655677795,\n",
       " 'country': 0.07722926884889603}"
      ]
     },
     "execution_count": 3,
     "metadata": {},
     "output_type": "execute_result"
    }
   ],
   "source": [
    "classify_audio(\"./data/jazz.mp3\")"
   ]
  },
  {
   "cell_type": "code",
   "execution_count": 13,
   "metadata": {},
   "outputs": [],
   "source": [
    "model_path = \"./model/ast-finetuned-audioset-10-10-0.4593-finetuned-us8k/checkpoint-983/\"\n",
    "pipe = pipeline(\"audio-classification\", model=model_path)\n",
    "\n",
    "def classify_audio(filepath):\n",
    "    preds = pipe(filepath)\n",
    "    outputs = {}\n",
    "    for p in preds:\n",
    "        outputs[p[\"label\"]] = p[\"score\"]\n",
    "    return outputs"
   ]
  },
  {
   "cell_type": "code",
   "execution_count": 9,
   "metadata": {},
   "outputs": [
    {
     "data": {
      "text/plain": [
       "{'air_conditioner': 0.9997591376304626,\n",
       " 'engine_idling': 6.072473479434848e-05,\n",
       " 'siren': 5.030600368627347e-05,\n",
       " 'car_horn': 3.671060403576121e-05,\n",
       " 'gun_shot': 2.7247828256804496e-05}"
      ]
     },
     "execution_count": 9,
     "metadata": {},
     "output_type": "execute_result"
    }
   ],
   "source": [
    "data_path = \"./data/189981-0-0-10.wav\"\n",
    "# data_path = \"./data/185909-2-0-116.wav\"\n",
    "classify_audio(data_path)"
   ]
  },
  {
   "cell_type": "code",
   "execution_count": 15,
   "metadata": {},
   "outputs": [],
   "source": [
    "torch.backends.cuda.matmul.allow_tf32 = True"
   ]
  },
  {
   "cell_type": "code",
   "execution_count": 16,
   "metadata": {},
   "outputs": [
    {
     "data": {
      "text/plain": [
       "{'air_conditioner': 0.9997591376304626,\n",
       " 'engine_idling': 6.072473479434848e-05,\n",
       " 'siren': 5.030600368627347e-05,\n",
       " 'car_horn': 3.671060403576121e-05,\n",
       " 'gun_shot': 2.7247828256804496e-05}"
      ]
     },
     "execution_count": 16,
     "metadata": {},
     "output_type": "execute_result"
    }
   ],
   "source": [
    "classify_audio(data_path)"
   ]
  },
  {
   "cell_type": "code",
   "execution_count": null,
   "metadata": {},
   "outputs": [],
   "source": []
  },
  {
   "cell_type": "code",
   "execution_count": null,
   "metadata": {},
   "outputs": [],
   "source": []
  },
  {
   "cell_type": "code",
   "execution_count": null,
   "metadata": {},
   "outputs": [],
   "source": []
  }
 ],
 "metadata": {
  "kernelspec": {
   "display_name": ".venv",
   "language": "python",
   "name": "python3"
  },
  "language_info": {
   "codemirror_mode": {
    "name": "ipython",
    "version": 3
   },
   "file_extension": ".py",
   "mimetype": "text/x-python",
   "name": "python",
   "nbconvert_exporter": "python",
   "pygments_lexer": "ipython3",
   "version": "3.11.7"
  }
 },
 "nbformat": 4,
 "nbformat_minor": 2
}
